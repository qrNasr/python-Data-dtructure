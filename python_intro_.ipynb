{
  "nbformat": 4,
  "nbformat_minor": 0,
  "metadata": {
    "colab": {
      "name": "python intro .ipynb",
      "provenance": [],
      "authorship_tag": "ABX9TyMpt+n+2XTMqFw626CWSR8h",
      "include_colab_link": true
    },
    "kernelspec": {
      "name": "python3",
      "display_name": "Python 3"
    },
    "language_info": {
      "name": "python"
    }
  },
  "cells": [
    {
      "cell_type": "markdown",
      "metadata": {
        "id": "view-in-github",
        "colab_type": "text"
      },
      "source": [
        "<a href=\"https://colab.research.google.com/github/qrNasr/python-Data-dtructure/blob/main/python_intro_.ipynb\" target=\"_parent\"><img src=\"https://colab.research.google.com/assets/colab-badge.svg\" alt=\"Open In Colab\"/></a>"
      ]
    },
    {
      "cell_type": "code",
      "metadata": {
        "colab": {
          "base_uri": "https://localhost:8080/"
        },
        "id": "uyd_nzBOZQh6",
        "outputId": "75b28703-c4d7-425b-b0e4-6c60a9e254cf"
      },
      "source": [
        "a=12\n",
        "b=13\n",
        "if a>b:\n",
        "  print(\"A is greater\")\n",
        "else:\n",
        "  print(\"B is greater\")"
      ],
      "execution_count": null,
      "outputs": [
        {
          "output_type": "stream",
          "text": [
            "B is greater\n"
          ],
          "name": "stdout"
        }
      ]
    },
    {
      "cell_type": "code",
      "metadata": {
        "colab": {
          "base_uri": "https://localhost:8080/"
        },
        "id": "6xVRqZJtdyeZ",
        "outputId": "e2616efd-2ff4-40b6-b0f2-ae4a5b978656"
      },
      "source": [
        "myList = ['pineapple', 'banana', 'watermelon', 'mango']\n",
        "\n",
        "for element in myList:\n",
        "    print(len(element))"
      ],
      "execution_count": null,
      "outputs": [
        {
          "output_type": "stream",
          "text": [
            "9\n",
            "6\n",
            "10\n",
            "5\n"
          ],
          "name": "stdout"
        }
      ]
    },
    {
      "cell_type": "code",
      "metadata": {
        "colab": {
          "base_uri": "https://localhost:8080/"
        },
        "id": "uUVD5Erwg1Jq",
        "outputId": "62ad8159-843c-47d7-f898-8f1145c0a1f8"
      },
      "source": [
        "for i in range(10):\n",
        "  print(i)"
      ],
      "execution_count": 11,
      "outputs": [
        {
          "output_type": "stream",
          "text": [
            "0\n",
            "1\n",
            "2\n",
            "3\n",
            "4\n",
            "5\n",
            "6\n",
            "7\n",
            "8\n",
            "9\n"
          ],
          "name": "stdout"
        }
      ]
    },
    {
      "cell_type": "code",
      "metadata": {
        "colab": {
          "base_uri": "https://localhost:8080/"
        },
        "id": "30o2Eb5yg95C",
        "outputId": "9956108b-af2f-4961-db7f-3040c01e0057"
      },
      "source": [
        "A = [1,2,3,4,5]\n",
        "\n",
        "for i in A:\n",
        "  print(i)"
      ],
      "execution_count": 12,
      "outputs": [
        {
          "output_type": "stream",
          "text": [
            "1\n",
            "2\n",
            "3\n",
            "4\n",
            "5\n"
          ],
          "name": "stdout"
        }
      ]
    },
    {
      "cell_type": "code",
      "metadata": {
        "colab": {
          "base_uri": "https://localhost:8080/"
        },
        "id": "TwEY80h6hL20",
        "outputId": "a8873d46-66d2-4882-f093-727a76a30d19"
      },
      "source": [
        "A =[\"nasr\",\"Omar\",\"Mona\",\"Shahd\",\"Malak\"]\n",
        "\n",
        "for name in A:\n",
        "  print(A)"
      ],
      "execution_count": 13,
      "outputs": [
        {
          "output_type": "stream",
          "text": [
            "['nasr', 'Omar', 'Mona', 'Shahd', 'Malak']\n",
            "['nasr', 'Omar', 'Mona', 'Shahd', 'Malak']\n",
            "['nasr', 'Omar', 'Mona', 'Shahd', 'Malak']\n",
            "['nasr', 'Omar', 'Mona', 'Shahd', 'Malak']\n",
            "['nasr', 'Omar', 'Mona', 'Shahd', 'Malak']\n"
          ],
          "name": "stdout"
        }
      ]
    },
    {
      "cell_type": "code",
      "metadata": {
        "colab": {
          "base_uri": "https://localhost:8080/"
        },
        "id": "yFAmhYGzhenP",
        "outputId": "d0e3e7f0-ece4-4aa9-b6a2-d5480f175800"
      },
      "source": [
        "A =[\"nasr\",\"Omar\",\"Mona\",\"Shahd\",\"Malak\"]\n",
        "\n",
        "for name in A:\n",
        "  print(A)"
      ],
      "execution_count": 15,
      "outputs": [
        {
          "output_type": "stream",
          "text": [
            "['nasr', 'Omar', 'Mona', 'Shahd', 'Malak']\n",
            "['nasr', 'Omar', 'Mona', 'Shahd', 'Malak']\n",
            "['nasr', 'Omar', 'Mona', 'Shahd', 'Malak']\n",
            "['nasr', 'Omar', 'Mona', 'Shahd', 'Malak']\n",
            "['nasr', 'Omar', 'Mona', 'Shahd', 'Malak']\n"
          ],
          "name": "stdout"
        }
      ]
    },
    {
      "cell_type": "code",
      "metadata": {
        "colab": {
          "base_uri": "https://localhost:8080/"
        },
        "id": "NFvJEikChoWI",
        "outputId": "0ebcf71c-d8fe-4ad7-aee8-cebb7df221ff"
      },
      "source": [
        "A =[\"nasr\",\"Omar\",\"Mona\",\"Shahd\",\"Malak\"]\n",
        "\n",
        "for name in A:\n",
        "  print(len(A))"
      ],
      "execution_count": 16,
      "outputs": [
        {
          "output_type": "stream",
          "text": [
            "5\n",
            "5\n",
            "5\n",
            "5\n",
            "5\n"
          ],
          "name": "stdout"
        }
      ]
    },
    {
      "cell_type": "code",
      "metadata": {
        "id": "1Gt1g506hzZJ"
      },
      "source": [
        ""
      ],
      "execution_count": null,
      "outputs": []
    }
  ]
}